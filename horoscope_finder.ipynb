{
 "cells": [
  {
   "cell_type": "markdown",
   "id": "1b3736e3",
   "metadata": {},
   "source": [
    "### Project Description \n",
    "\n",
    "The Horoscope Finder is a python program that takes a birth date and produces the zodiac sign. The program will also allow the user to obtain a general daily horoscope and option to get addition horoscopes regarding love and career. The program will further offer the option to get common personality traits for the zodiac sign associated with the birth date provided. "
   ]
  },
  {
   "cell_type": "markdown",
   "id": "f66b6db1",
   "metadata": {},
   "source": [
    "### Project Approach\n",
    "\n",
    "I developed a project that asks the user to provide a birth date in mm/dd format such that the program can parse the input and return the associated zodiac sign. The program then asks the user if they would like to obtain their daily, with further options to get specific horoscopes related to love and career as well the personality traints associated with the zodiac sign. In doing this project, I implemented code that can parse the input from the user and based on the month and date used conditionals to obtain the zodiac sign. Using the obtained zodiac sign, I utilized the `requests` python module to request the daily horoscope from the website www.horscope.com. The returned html was then searched using the `beautifulsoup4` python module to find the section with the text of the horoscope.  The text was then parsed to remove the date and made available to the user.  The same approach was taken to obtain additional horoscopes for love and career.  I also wrote an additional functions using conditionals to report personality traits using their zodiac sign. The overall interaction with the user is implemented in a separate function using while loops to ensure correct inputs from the user and options to get difference horoscopes and personality traits based on user input."
   ]
  },
  {
   "cell_type": "markdown",
   "id": "f6f458f9",
   "metadata": {},
   "source": [
    "### Project Code"
   ]
  },
  {
   "cell_type": "code",
   "execution_count": 1,
   "id": "6733a40e",
   "metadata": {},
   "outputs": [
    {
     "name": "stdout",
     "output_type": "stream",
     "text": [
      "\u001b[1m============================= test session starts ==============================\u001b[0m\n",
      "platform linux -- Python 3.9.5, pytest-7.4.2, pluggy-1.3.0\n",
      "rootdir: /home/n8shah/my_project\n",
      "plugins: anyio-3.2.1\n",
      "collected 6 items                                                              \u001b[0m\n",
      "\n",
      "test_functions.py \u001b[32m.\u001b[0m\u001b[32m.\u001b[0m\u001b[32m.\u001b[0m\u001b[32m.\u001b[0m\u001b[32m.\u001b[0m\u001b[32m.\u001b[0m\u001b[32m                                                 [100%]\u001b[0m\n",
      "\n",
      "\u001b[32m============================== \u001b[32m\u001b[1m6 passed\u001b[0m\u001b[32m in 9.55s\u001b[0m\u001b[32m ===============================\u001b[0m\n",
      "Hello! Welcome to the Horoscope Finder!\n",
      "This program can help you figure out your zodiac sign, provide you with your daily horoscope, and more!\n",
      "\n",
      "enter a birth date (mm/dd): 12/09\n",
      "Your zodiac sign is sagittarius\n",
      "\n",
      "Would you like to know your daily horoscope? yes\n",
      "\n",
      "\n",
      "It looks like your emotions are finally back in business! You've been hesitant for the past six weeks or so, unable to make any decisions. You felt unsure, as if you could no longer trust yourself. It's been an especially upsetting time. Don't throw caution to the wind, but your self-confidence will return to you today.\n",
      "\n",
      "\n",
      "Would you like to know your horoscope for career or love, or the personality traits for your zodiac sign.\n",
      "Please enter \"career\", \"love\", or \"personality\". Enter \"quit\" if you would like to stop the program. career\n",
      "\n",
      "Be sure to stay disciplined today. Your tendency may be to get out of control when a co-worker acts in a way that is not completely responsible. Anger and aggression may permeate your job, but this is no reason to lose your cool. Stay focused.\n",
      "\n",
      "love, personality, or quit? love\n",
      "\n",
      "A bond between you and a close personal friend could be shattered today. This doesn't have to happen, but it seems that tension has been building up between you for some time. If you let off steam now, you could wreck everything, so it may help if you can think through what you need to say, and at least try and put yourself in your friend's shoes.\n",
      "\n",
      "career, personality, or quit? personality\n",
      "\n",
      "Sagittarius are independent, strong-willed, adventurous, open-hearted, and generous.\n",
      "\n",
      "career, love, or quit? no\n",
      "\n",
      "Invalid entry!\n",
      "Please enter \"career\", \"love\", or \"personality\". Enter \"quit\" if you would like to stop the program. quit\n",
      "\n",
      "Thank you! Hope you enjoyed the Horoscope Finder!\n"
     ]
    }
   ],
   "source": [
    "import functions\n",
    "import test_functions\n",
    "\n",
    "#to run the tests\n",
    "!pytest\n",
    "\n",
    "#to run program\n",
    "functions.chat()"
   ]
  },
  {
   "cell_type": "markdown",
   "id": "5c69be88",
   "metadata": {},
   "source": [
    "#### Extra Credit \n",
    "\n",
    "This is my first time taking interest in coding and the course content is extremely new to me. Therefore, this project has allowed me to broaden my interest and knowledge in coding. I've made 7 different functions, of which 1 serves as the main function (chat()) that calls the other 6. 3 of the functions include usage of the `requests` and `beautifulsoup4` python modules to request and parse information from an website, which updates daily. This code included research and understanding on how to set it up and get it to execute properly. I made written tests for 6 of my functions, which all ran smoothly. Overall, I went above my level of coding in this project and I learned a lot from the process. "
   ]
  },
  {
   "cell_type": "code",
   "execution_count": null,
   "id": "de68700b",
   "metadata": {},
   "outputs": [],
   "source": []
  }
 ],
 "metadata": {
  "kernelspec": {
   "display_name": "Python 3 (ipykernel)",
   "language": "python",
   "name": "python3"
  },
  "language_info": {
   "codemirror_mode": {
    "name": "ipython",
    "version": 3
   },
   "file_extension": ".py",
   "mimetype": "text/x-python",
   "name": "python",
   "nbconvert_exporter": "python",
   "pygments_lexer": "ipython3",
   "version": "3.9.5"
  }
 },
 "nbformat": 4,
 "nbformat_minor": 5
}
